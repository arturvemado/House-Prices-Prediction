{
 "cells": [
  {
   "cell_type": "code",
   "execution_count": 1,
   "metadata": {},
   "outputs": [],
   "source": [
    "# library imports\n",
    "import pandas as pd\n",
    "import numpy as np\n",
    "import os\n",
    "import matplotlib.pyplot as plt\n",
    "import seaborn as sns\n",
    "from scipy import stats\n",
    "from scipy.stats import norm, skew\n",
    "import tqdm\n",
    "\n",
    "%matplotlib inline"
   ]
  },
  {
   "cell_type": "markdown",
   "metadata": {},
   "source": [
    "## Import Data"
   ]
  },
  {
   "cell_type": "code",
   "execution_count": 2,
   "metadata": {},
   "outputs": [],
   "source": [
    "# set the path of the raw data\n",
    "raw_data_path = os.path.join(os.path.pardir, 'data', 'raw')\n",
    "train_file_path = os.path.join(raw_data_path, 'train_house.csv')\n",
    "test_file_path = os.path.join(raw_data_path, 'test_house.csv')"
   ]
  },
  {
   "cell_type": "code",
   "execution_count": 3,
   "metadata": {},
   "outputs": [],
   "source": [
    "# read the data with all default parameters\n",
    "train_df = pd.read_csv(train_file_path, index_col='Id')\n",
    "test_df = pd.read_csv(test_file_path, index_col='Id')"
   ]
  },
  {
   "cell_type": "markdown",
   "metadata": {},
   "source": [
    "## Organizing data"
   ]
  },
  {
   "cell_type": "code",
   "execution_count": 4,
   "metadata": {},
   "outputs": [],
   "source": [
    "# get columns with nan values from training data\n",
    "# numerical columns and categorical columns in the training data\n",
    "col_with_nan = [col for col in train_df.columns if train_df[col].isnull().any()]\n",
    "#num_col = [col for col in train_df.columns if train_df[col].dtypes in ['float64', 'int64']]\n",
    "#cat_col = list(set(train_df.columns) - set(num_col))"
   ]
  },
  {
   "cell_type": "markdown",
   "metadata": {},
   "source": [
    "## Basic Structure"
   ]
  },
  {
   "cell_type": "code",
   "execution_count": 5,
   "metadata": {},
   "outputs": [
    {
     "name": "stdout",
     "output_type": "stream",
     "text": [
      "<class 'pandas.core.frame.DataFrame'>\n",
      "Int64Index: 1460 entries, 1 to 1460\n",
      "Data columns (total 80 columns):\n",
      " #   Column         Non-Null Count  Dtype  \n",
      "---  ------         --------------  -----  \n",
      " 0   MSSubClass     1460 non-null   int64  \n",
      " 1   MSZoning       1460 non-null   object \n",
      " 2   LotFrontage    1201 non-null   float64\n",
      " 3   LotArea        1460 non-null   int64  \n",
      " 4   Street         1460 non-null   object \n",
      " 5   Alley          91 non-null     object \n",
      " 6   LotShape       1460 non-null   object \n",
      " 7   LandContour    1460 non-null   object \n",
      " 8   Utilities      1460 non-null   object \n",
      " 9   LotConfig      1460 non-null   object \n",
      " 10  LandSlope      1460 non-null   object \n",
      " 11  Neighborhood   1460 non-null   object \n",
      " 12  Condition1     1460 non-null   object \n",
      " 13  Condition2     1460 non-null   object \n",
      " 14  BldgType       1460 non-null   object \n",
      " 15  HouseStyle     1460 non-null   object \n",
      " 16  OverallQual    1460 non-null   int64  \n",
      " 17  OverallCond    1460 non-null   int64  \n",
      " 18  YearBuilt      1460 non-null   int64  \n",
      " 19  YearRemodAdd   1460 non-null   int64  \n",
      " 20  RoofStyle      1460 non-null   object \n",
      " 21  RoofMatl       1460 non-null   object \n",
      " 22  Exterior1st    1460 non-null   object \n",
      " 23  Exterior2nd    1460 non-null   object \n",
      " 24  MasVnrType     1452 non-null   object \n",
      " 25  MasVnrArea     1452 non-null   float64\n",
      " 26  ExterQual      1460 non-null   object \n",
      " 27  ExterCond      1460 non-null   object \n",
      " 28  Foundation     1460 non-null   object \n",
      " 29  BsmtQual       1423 non-null   object \n",
      " 30  BsmtCond       1423 non-null   object \n",
      " 31  BsmtExposure   1422 non-null   object \n",
      " 32  BsmtFinType1   1423 non-null   object \n",
      " 33  BsmtFinSF1     1460 non-null   int64  \n",
      " 34  BsmtFinType2   1422 non-null   object \n",
      " 35  BsmtFinSF2     1460 non-null   int64  \n",
      " 36  BsmtUnfSF      1460 non-null   int64  \n",
      " 37  TotalBsmtSF    1460 non-null   int64  \n",
      " 38  Heating        1460 non-null   object \n",
      " 39  HeatingQC      1460 non-null   object \n",
      " 40  CentralAir     1460 non-null   object \n",
      " 41  Electrical     1459 non-null   object \n",
      " 42  1stFlrSF       1460 non-null   int64  \n",
      " 43  2ndFlrSF       1460 non-null   int64  \n",
      " 44  LowQualFinSF   1460 non-null   int64  \n",
      " 45  GrLivArea      1460 non-null   int64  \n",
      " 46  BsmtFullBath   1460 non-null   int64  \n",
      " 47  BsmtHalfBath   1460 non-null   int64  \n",
      " 48  FullBath       1460 non-null   int64  \n",
      " 49  HalfBath       1460 non-null   int64  \n",
      " 50  BedroomAbvGr   1460 non-null   int64  \n",
      " 51  KitchenAbvGr   1460 non-null   int64  \n",
      " 52  KitchenQual    1460 non-null   object \n",
      " 53  TotRmsAbvGrd   1460 non-null   int64  \n",
      " 54  Functional     1460 non-null   object \n",
      " 55  Fireplaces     1460 non-null   int64  \n",
      " 56  FireplaceQu    770 non-null    object \n",
      " 57  GarageType     1379 non-null   object \n",
      " 58  GarageYrBlt    1379 non-null   float64\n",
      " 59  GarageFinish   1379 non-null   object \n",
      " 60  GarageCars     1460 non-null   int64  \n",
      " 61  GarageArea     1460 non-null   int64  \n",
      " 62  GarageQual     1379 non-null   object \n",
      " 63  GarageCond     1379 non-null   object \n",
      " 64  PavedDrive     1460 non-null   object \n",
      " 65  WoodDeckSF     1460 non-null   int64  \n",
      " 66  OpenPorchSF    1460 non-null   int64  \n",
      " 67  EnclosedPorch  1460 non-null   int64  \n",
      " 68  3SsnPorch      1460 non-null   int64  \n",
      " 69  ScreenPorch    1460 non-null   int64  \n",
      " 70  PoolArea       1460 non-null   int64  \n",
      " 71  PoolQC         7 non-null      object \n",
      " 72  Fence          281 non-null    object \n",
      " 73  MiscFeature    54 non-null     object \n",
      " 74  MiscVal        1460 non-null   int64  \n",
      " 75  MoSold         1460 non-null   int64  \n",
      " 76  YrSold         1460 non-null   int64  \n",
      " 77  SaleType       1460 non-null   object \n",
      " 78  SaleCondition  1460 non-null   object \n",
      " 79  SalePrice      1460 non-null   int64  \n",
      "dtypes: float64(3), int64(34), object(43)\n",
      "memory usage: 923.9+ KB\n"
     ]
    }
   ],
   "source": [
    "train_df.info()"
   ]
  },
  {
   "cell_type": "code",
   "execution_count": 6,
   "metadata": {},
   "outputs": [
    {
     "name": "stdout",
     "output_type": "stream",
     "text": [
      "<class 'pandas.core.frame.DataFrame'>\n",
      "Int64Index: 1459 entries, 1461 to 2919\n",
      "Data columns (total 79 columns):\n",
      " #   Column         Non-Null Count  Dtype  \n",
      "---  ------         --------------  -----  \n",
      " 0   MSSubClass     1459 non-null   int64  \n",
      " 1   MSZoning       1455 non-null   object \n",
      " 2   LotFrontage    1232 non-null   float64\n",
      " 3   LotArea        1459 non-null   int64  \n",
      " 4   Street         1459 non-null   object \n",
      " 5   Alley          107 non-null    object \n",
      " 6   LotShape       1459 non-null   object \n",
      " 7   LandContour    1459 non-null   object \n",
      " 8   Utilities      1457 non-null   object \n",
      " 9   LotConfig      1459 non-null   object \n",
      " 10  LandSlope      1459 non-null   object \n",
      " 11  Neighborhood   1459 non-null   object \n",
      " 12  Condition1     1459 non-null   object \n",
      " 13  Condition2     1459 non-null   object \n",
      " 14  BldgType       1459 non-null   object \n",
      " 15  HouseStyle     1459 non-null   object \n",
      " 16  OverallQual    1459 non-null   int64  \n",
      " 17  OverallCond    1459 non-null   int64  \n",
      " 18  YearBuilt      1459 non-null   int64  \n",
      " 19  YearRemodAdd   1459 non-null   int64  \n",
      " 20  RoofStyle      1459 non-null   object \n",
      " 21  RoofMatl       1459 non-null   object \n",
      " 22  Exterior1st    1458 non-null   object \n",
      " 23  Exterior2nd    1458 non-null   object \n",
      " 24  MasVnrType     1443 non-null   object \n",
      " 25  MasVnrArea     1444 non-null   float64\n",
      " 26  ExterQual      1459 non-null   object \n",
      " 27  ExterCond      1459 non-null   object \n",
      " 28  Foundation     1459 non-null   object \n",
      " 29  BsmtQual       1415 non-null   object \n",
      " 30  BsmtCond       1414 non-null   object \n",
      " 31  BsmtExposure   1415 non-null   object \n",
      " 32  BsmtFinType1   1417 non-null   object \n",
      " 33  BsmtFinSF1     1458 non-null   float64\n",
      " 34  BsmtFinType2   1417 non-null   object \n",
      " 35  BsmtFinSF2     1458 non-null   float64\n",
      " 36  BsmtUnfSF      1458 non-null   float64\n",
      " 37  TotalBsmtSF    1458 non-null   float64\n",
      " 38  Heating        1459 non-null   object \n",
      " 39  HeatingQC      1459 non-null   object \n",
      " 40  CentralAir     1459 non-null   object \n",
      " 41  Electrical     1459 non-null   object \n",
      " 42  1stFlrSF       1459 non-null   int64  \n",
      " 43  2ndFlrSF       1459 non-null   int64  \n",
      " 44  LowQualFinSF   1459 non-null   int64  \n",
      " 45  GrLivArea      1459 non-null   int64  \n",
      " 46  BsmtFullBath   1457 non-null   float64\n",
      " 47  BsmtHalfBath   1457 non-null   float64\n",
      " 48  FullBath       1459 non-null   int64  \n",
      " 49  HalfBath       1459 non-null   int64  \n",
      " 50  BedroomAbvGr   1459 non-null   int64  \n",
      " 51  KitchenAbvGr   1459 non-null   int64  \n",
      " 52  KitchenQual    1458 non-null   object \n",
      " 53  TotRmsAbvGrd   1459 non-null   int64  \n",
      " 54  Functional     1457 non-null   object \n",
      " 55  Fireplaces     1459 non-null   int64  \n",
      " 56  FireplaceQu    729 non-null    object \n",
      " 57  GarageType     1383 non-null   object \n",
      " 58  GarageYrBlt    1381 non-null   float64\n",
      " 59  GarageFinish   1381 non-null   object \n",
      " 60  GarageCars     1458 non-null   float64\n",
      " 61  GarageArea     1458 non-null   float64\n",
      " 62  GarageQual     1381 non-null   object \n",
      " 63  GarageCond     1381 non-null   object \n",
      " 64  PavedDrive     1459 non-null   object \n",
      " 65  WoodDeckSF     1459 non-null   int64  \n",
      " 66  OpenPorchSF    1459 non-null   int64  \n",
      " 67  EnclosedPorch  1459 non-null   int64  \n",
      " 68  3SsnPorch      1459 non-null   int64  \n",
      " 69  ScreenPorch    1459 non-null   int64  \n",
      " 70  PoolArea       1459 non-null   int64  \n",
      " 71  PoolQC         3 non-null      object \n",
      " 72  Fence          290 non-null    object \n",
      " 73  MiscFeature    51 non-null     object \n",
      " 74  MiscVal        1459 non-null   int64  \n",
      " 75  MoSold         1459 non-null   int64  \n",
      " 76  YrSold         1459 non-null   int64  \n",
      " 77  SaleType       1458 non-null   object \n",
      " 78  SaleCondition  1459 non-null   object \n",
      "dtypes: float64(11), int64(25), object(43)\n",
      "memory usage: 911.9+ KB\n"
     ]
    }
   ],
   "source": [
    "test_df.info()"
   ]
  },
  {
   "cell_type": "markdown",
   "metadata": {},
   "source": [
    "## Check for duplicates"
   ]
  },
  {
   "cell_type": "code",
   "execution_count": 7,
   "metadata": {},
   "outputs": [
    {
     "data": {
      "text/html": [
       "<div>\n",
       "<style scoped>\n",
       "    .dataframe tbody tr th:only-of-type {\n",
       "        vertical-align: middle;\n",
       "    }\n",
       "\n",
       "    .dataframe tbody tr th {\n",
       "        vertical-align: top;\n",
       "    }\n",
       "\n",
       "    .dataframe thead th {\n",
       "        text-align: right;\n",
       "    }\n",
       "</style>\n",
       "<table border=\"1\" class=\"dataframe\">\n",
       "  <thead>\n",
       "    <tr style=\"text-align: right;\">\n",
       "      <th></th>\n",
       "      <th>MSSubClass</th>\n",
       "      <th>MSZoning</th>\n",
       "      <th>LotFrontage</th>\n",
       "      <th>LotArea</th>\n",
       "      <th>Street</th>\n",
       "      <th>Alley</th>\n",
       "      <th>LotShape</th>\n",
       "      <th>LandContour</th>\n",
       "      <th>Utilities</th>\n",
       "      <th>LotConfig</th>\n",
       "      <th>...</th>\n",
       "      <th>PoolArea</th>\n",
       "      <th>PoolQC</th>\n",
       "      <th>Fence</th>\n",
       "      <th>MiscFeature</th>\n",
       "      <th>MiscVal</th>\n",
       "      <th>MoSold</th>\n",
       "      <th>YrSold</th>\n",
       "      <th>SaleType</th>\n",
       "      <th>SaleCondition</th>\n",
       "      <th>SalePrice</th>\n",
       "    </tr>\n",
       "    <tr>\n",
       "      <th>Id</th>\n",
       "      <th></th>\n",
       "      <th></th>\n",
       "      <th></th>\n",
       "      <th></th>\n",
       "      <th></th>\n",
       "      <th></th>\n",
       "      <th></th>\n",
       "      <th></th>\n",
       "      <th></th>\n",
       "      <th></th>\n",
       "      <th></th>\n",
       "      <th></th>\n",
       "      <th></th>\n",
       "      <th></th>\n",
       "      <th></th>\n",
       "      <th></th>\n",
       "      <th></th>\n",
       "      <th></th>\n",
       "      <th></th>\n",
       "      <th></th>\n",
       "      <th></th>\n",
       "    </tr>\n",
       "  </thead>\n",
       "  <tbody>\n",
       "  </tbody>\n",
       "</table>\n",
       "<p>0 rows × 80 columns</p>\n",
       "</div>"
      ],
      "text/plain": [
       "Empty DataFrame\n",
       "Columns: [MSSubClass, MSZoning, LotFrontage, LotArea, Street, Alley, LotShape, LandContour, Utilities, LotConfig, LandSlope, Neighborhood, Condition1, Condition2, BldgType, HouseStyle, OverallQual, OverallCond, YearBuilt, YearRemodAdd, RoofStyle, RoofMatl, Exterior1st, Exterior2nd, MasVnrType, MasVnrArea, ExterQual, ExterCond, Foundation, BsmtQual, BsmtCond, BsmtExposure, BsmtFinType1, BsmtFinSF1, BsmtFinType2, BsmtFinSF2, BsmtUnfSF, TotalBsmtSF, Heating, HeatingQC, CentralAir, Electrical, 1stFlrSF, 2ndFlrSF, LowQualFinSF, GrLivArea, BsmtFullBath, BsmtHalfBath, FullBath, HalfBath, BedroomAbvGr, KitchenAbvGr, KitchenQual, TotRmsAbvGrd, Functional, Fireplaces, FireplaceQu, GarageType, GarageYrBlt, GarageFinish, GarageCars, GarageArea, GarageQual, GarageCond, PavedDrive, WoodDeckSF, OpenPorchSF, EnclosedPorch, 3SsnPorch, ScreenPorch, PoolArea, PoolQC, Fence, MiscFeature, MiscVal, MoSold, YrSold, SaleType, SaleCondition, SalePrice]\n",
       "Index: []\n",
       "\n",
       "[0 rows x 80 columns]"
      ]
     },
     "execution_count": 7,
     "metadata": {},
     "output_type": "execute_result"
    }
   ],
   "source": [
    "# Try to find duplicated data\n",
    "duplicatedID = train_df.duplicated()\n",
    "train_df[duplicatedID] #no duplicated found"
   ]
  },
  {
   "cell_type": "markdown",
   "metadata": {},
   "source": [
    "## Study the data graphically"
   ]
  },
  {
   "cell_type": "code",
   "execution_count": 8,
   "metadata": {},
   "outputs": [],
   "source": [
    "def hist_log_hist (df, col, show=True, file_path=''):\n",
    "    \n",
    "    '''\n",
    "        Returns the histogram and log1p of the values histogram of the column col\n",
    "        with their probability plots.\n",
    "        \n",
    "        Args:\n",
    "            df: Dataframe with features. Shape(m, n)\n",
    "            col: feature to be plotted\n",
    "            show: display graphics if True\n",
    "\n",
    "    '''\n",
    "\n",
    "    f, axes = plt.subplots(2, 2, figsize=(12, 10));\n",
    "\n",
    "    # original histogram\n",
    "    sns.distplot(df[df[col].notnull()][col], fit=norm, ax=axes[0, 0]);\n",
    "    stats.probplot(df[df[col].notnull()][col], plot=axes[1, 0]);\n",
    "\n",
    "    # log-histogram (deals with zero and NaN values)\n",
    "    sns.distplot(np.log1p(df[df[col].notnull()][col]), fit=norm, ax=axes[0, 1]);\n",
    "    stats.probplot(np.log1p(df[df[col].notnull()][col]), plot=axes[1, 1]);\n",
    "    \n",
    "    plt.suptitle(col, fontsize=18)\n",
    "    plt.tight_layout(rect=[0, 0, 1, 0.95]);\n",
    "    \n",
    "    if show:\n",
    "        plt.show();\n",
    "    elif file_path:\n",
    "        plt.savefig(file_path, dpi=300)"
   ]
  },
  {
   "cell_type": "code",
   "execution_count": null,
   "metadata": {},
   "outputs": [],
   "source": [
    "# distributions of numerical features\n",
    "# saving histograms for all numerical columns to see skewness of data\n",
    "\n",
    "for col in tqdm.tqdm(num_col):\n",
    "    \n",
    "    path = os.path.join(os.path.pardir, 'data', 'figures', col)\n",
    "    path = '.'.join([path, 'png'])\n",
    "    hist_log_hist(train_df, col, show=False, file_path=path)\n",
    "    plt.cla()\n",
    "    plt.clf()\n",
    "    plt.close()"
   ]
  },
  {
   "cell_type": "code",
   "execution_count": null,
   "metadata": {},
   "outputs": [],
   "source": [
    "# very skewed columns without 'SalePrice'\n",
    "# skew_col = ['1stFlrSF', 'GrLivArea', 'LotArea']"
   ]
  },
  {
   "cell_type": "code",
   "execution_count": null,
   "metadata": {},
   "outputs": [],
   "source": [
    "# check scatter plot with the target \"SalePrice\"\n",
    "for col in tqdm.tqdm(num_col):\n",
    "    \n",
    "    path = os.path.join(os.path.pardir, 'data', 'figures', col)\n",
    "    path = '.'.join([path, 'png'])\n",
    "    plt.scatter(train_df[col], train_df['SalePrice'])\n",
    "    plt.savefig(path, dpi=300)\n",
    "    plt.cla()\n",
    "    plt.clf()\n",
    "    plt.close()"
   ]
  },
  {
   "cell_type": "markdown",
   "metadata": {},
   "source": [
    "Removing outiliers shown in the scatter plot. Points that did not follow the patterns in the scatter plot were dropped"
   ]
  },
  {
   "cell_type": "code",
   "execution_count": 9,
   "metadata": {},
   "outputs": [],
   "source": [
    "# outliers from scatter plot\n",
    "# point > 4000 in 1stFlrSF\n",
    "# point > 5000 in BsmtFinSF1\n",
    "# point >~ 4500 in GrLivArea\n",
    "# point > 100000 in LotArea\n",
    "# point > 300 in LotFrontage\n",
    "# drop outliers from above\n",
    "\n",
    "outliers_removed = train_df.copy()\n",
    "outliers_removed = outliers_removed.drop(outliers_removed[outliers_removed['1stFlrSF'] >= 4000].index)\n",
    "outliers_removed = outliers_removed.drop(outliers_removed[outliers_removed.BsmtFinSF1 >= 5000].index)\n",
    "outliers_removed = outliers_removed.drop(outliers_removed[outliers_removed.GrLivArea > 4500].index)\n",
    "outliers_removed = outliers_removed.drop(outliers_removed[outliers_removed.LotArea > 100000].index)\n",
    "outliers_removed = outliers_removed.drop(outliers_removed[outliers_removed.LotFrontage > 300].index)"
   ]
  },
  {
   "cell_type": "markdown",
   "metadata": {},
   "source": [
    "Check how each categorical feature influence the target sale price for the houses"
   ]
  },
  {
   "cell_type": "code",
   "execution_count": null,
   "metadata": {},
   "outputs": [],
   "source": [
    "# check importance of categorical features\n",
    "for col in tqdm.tqdm(cat_col):\n",
    "    \n",
    "    path = os.path.join(os.path.pardir, 'data', 'figures', col)\n",
    "    path = '.'.join([path, 'png'])\n",
    "    \n",
    "    # order bars by its mean\n",
    "    order = outliers_removed.groupby([col])['SalePrice'].aggregate(\n",
    "        np.mean).reset_index().sort_values('SalePrice')\n",
    "    \n",
    "    plt.figure(figsize=(12, 7))\n",
    "    \n",
    "    sns.barplot(x=col, y='SalePrice', data=outliers_removed, order=order[col]);\n",
    "    \n",
    "    plt.tight_layout()\n",
    "    plt.savefig(path, dpi=300)\n",
    "    plt.cla()\n",
    "    plt.clf()\n",
    "    plt.close()"
   ]
  },
  {
   "cell_type": "markdown",
   "metadata": {},
   "source": [
    "Keeping track of the freatures that showed some ranking in the categories"
   ]
  },
  {
   "cell_type": "code",
   "execution_count": null,
   "metadata": {},
   "outputs": [],
   "source": [
    "# # columns with clear rankings\n",
    "# rank_col = ['Alley', 'BsmtCond', 'BsmtExposure', 'BsmtQual',\n",
    "#             'CentralAir', 'Electrical', 'ExterCond', 'Condition2', \n",
    "#             'Exterior1st', 'Exterior2nd', 'ExterQual', 'Fence', \n",
    "#             'FireplaceQU', 'Foundation', 'Functional', 'GarageFinish', \n",
    "#             'GarageQual', 'GarageType', 'Heating', 'HeatingQC', 'HouseStyle',\n",
    "#             'KitchenQual', 'LandContour', 'MasVnrType', 'MSZoning', 'Neighborhood', \n",
    "#             'PavedDrive', 'PoolQC', 'RoofMatl', 'RoofStyle', 'SaleType', 'Street',\n",
    "#             'Utilities']\n",
    "# # maybe target encoder columns (not so clear ranking) or one hot encoder\n",
    "# te_col = ['BldgType', 'BsmtFinType1', 'BsmtFinType2', 'Condition1', 'GarageCond', \n",
    "#           'LandSlope', 'LotConfig', 'LotShape', 'MiscFeature', 'SaleCondition']"
   ]
  },
  {
   "cell_type": "markdown",
   "metadata": {},
   "source": [
    "Checking numerical features that are actually categorical"
   ]
  },
  {
   "cell_type": "code",
   "execution_count": 10,
   "metadata": {},
   "outputs": [],
   "source": [
    "num_cat_col = ['MSSubClass', 'OverallQual', 'OverallCond']"
   ]
  },
  {
   "cell_type": "code",
   "execution_count": null,
   "metadata": {},
   "outputs": [],
   "source": [
    "for col in tqdm.tqdm(num_cat_col):\n",
    "    \n",
    "    path = os.path.join(os.path.pardir, 'data', 'figures', col)\n",
    "    path = '.'.join([path, 'png'])\n",
    "    \n",
    "    # order bars by its mean\n",
    "    order = outliers_removed.groupby([col])['SalePrice'].aggregate(\n",
    "        np.mean).reset_index().sort_values('SalePrice')\n",
    "    \n",
    "    plt.figure(figsize=(12, 7))\n",
    "    \n",
    "    sns.barplot(x=col, y='SalePrice', data=outliers_removed, order=order[col]);\n",
    "    \n",
    "    plt.tight_layout()\n",
    "    plt.savefig(path, dpi=300)\n",
    "    plt.cla()\n",
    "    plt.clf()\n",
    "    plt.close()"
   ]
  },
  {
   "cell_type": "markdown",
   "metadata": {},
   "source": [
    "From the figures we can see that MSSubClass is not actually in order, so we will pass it to categorical feature."
   ]
  },
  {
   "cell_type": "code",
   "execution_count": 11,
   "metadata": {},
   "outputs": [],
   "source": [
    "# MSSubClass\n",
    "train_df['MSSubClass'] = train_df['MSSubClass'].astype('object')\n",
    "test_df['MSSubClass'] = test_df['MSSubClass'].astype('object')\n",
    "\n",
    "# Year and Month sold are transformed into categorical features.\n",
    "train_df['YrSold'] = train_df['YrSold'].astype('object')\n",
    "test_df['YrSold'] = test_df['YrSold'].astype('object')\n",
    "train_df['MoSold'] = train_df['MoSold'].astype('object')\n",
    "test_df['MoSold'] = test_df['MoSold'].astype('object')"
   ]
  },
  {
   "cell_type": "markdown",
   "metadata": {},
   "source": [
    "## Missing values"
   ]
  },
  {
   "cell_type": "code",
   "execution_count": 12,
   "metadata": {},
   "outputs": [
    {
     "name": "stdout",
     "output_type": "stream",
     "text": [
      "<class 'pandas.core.frame.DataFrame'>\n",
      "Int64Index: 1453 entries, 1 to 1460\n",
      "Data columns (total 19 columns):\n",
      " #   Column        Non-Null Count  Dtype  \n",
      "---  ------        --------------  -----  \n",
      " 0   LotFrontage   1197 non-null   float64\n",
      " 1   Alley         91 non-null     object \n",
      " 2   MasVnrType    1445 non-null   object \n",
      " 3   MasVnrArea    1445 non-null   float64\n",
      " 4   BsmtQual      1416 non-null   object \n",
      " 5   BsmtCond      1416 non-null   object \n",
      " 6   BsmtExposure  1415 non-null   object \n",
      " 7   BsmtFinType1  1416 non-null   object \n",
      " 8   BsmtFinType2  1415 non-null   object \n",
      " 9   Electrical    1452 non-null   object \n",
      " 10  FireplaceQu   763 non-null    object \n",
      " 11  GarageType    1372 non-null   object \n",
      " 12  GarageYrBlt   1372 non-null   float64\n",
      " 13  GarageFinish  1372 non-null   object \n",
      " 14  GarageQual    1372 non-null   object \n",
      " 15  GarageCond    1372 non-null   object \n",
      " 16  PoolQC        6 non-null      object \n",
      " 17  Fence         281 non-null    object \n",
      " 18  MiscFeature   52 non-null     object \n",
      "dtypes: float64(3), object(16)\n",
      "memory usage: 227.0+ KB\n"
     ]
    }
   ],
   "source": [
    "train_df = outliers_removed.copy()\n",
    "train_df[col_with_nan].info()"
   ]
  },
  {
   "cell_type": "code",
   "execution_count": 13,
   "metadata": {},
   "outputs": [],
   "source": [
    "# missing values dataframe to avoid errors in code\n",
    "missing = train_df.copy()"
   ]
  },
  {
   "cell_type": "markdown",
   "metadata": {},
   "source": [
    "It is probable that houses have similar LotFrontage in the same Neighborhood"
   ]
  },
  {
   "cell_type": "code",
   "execution_count": 14,
   "metadata": {},
   "outputs": [],
   "source": [
    "# fill missing values of lotfrontage with values of the median in the neighborhood\n",
    "missing['LotFrontage'] = missing.groupby(['Neighborhood'])['LotFrontage'].transform(\n",
    "    lambda x: x.fillna(x.median()))"
   ]
  },
  {
   "cell_type": "markdown",
   "metadata": {},
   "source": [
    "All these features are probably not in the houses with missing values, so we will impute 'NA'."
   ]
  },
  {
   "cell_type": "code",
   "execution_count": 15,
   "metadata": {},
   "outputs": [],
   "source": [
    "# filling NaN values with 'NA'\n",
    "fill_NA_col = ['BsmtQual', 'BsmtCond', 'BsmtExposure', 'BsmtFinType1','BsmtFinType2',\n",
    "              'GarageType', 'GarageFinish', 'GarageQual', 'GarageCond', 'Alley',\n",
    "              'FireplaceQu', 'PoolQC', 'Fence', 'MiscFeature']\n",
    "\n",
    "for col in fill_NA_col:\n",
    "    missing[col].fillna('NA', inplace=True)"
   ]
  },
  {
   "cell_type": "markdown",
   "metadata": {},
   "source": [
    "For MasVnrArea, Type and Electrical we will impute the most frequent values because there are few missing values. For the the GarageYrBlt we will impute zero, because there is no garage in the house."
   ]
  },
  {
   "cell_type": "code",
   "execution_count": 16,
   "metadata": {},
   "outputs": [],
   "source": [
    "# fill with the most frequent value\n",
    "mode_MasVnr = missing[['MasVnrArea','MasVnrType']].mode().iloc[0,:]\n",
    "missing.MasVnrArea.fillna(mode_MasVnr[0], inplace=True)\n",
    "missing.MasVnrType.fillna(mode_MasVnr[1], inplace=True)\n",
    "\n",
    "# fill the one mv with the most frequent value in the column\n",
    "mode_Electrical = missing.Electrical.mode()[0]\n",
    "missing.Electrical.fillna(mode_Electrical, inplace=True)\n",
    "\n",
    "# filling with year with zero because the garage was not built\n",
    "missing['GarageYrBlt'].fillna(0, inplace=True)"
   ]
  },
  {
   "cell_type": "code",
   "execution_count": 17,
   "metadata": {},
   "outputs": [],
   "source": [
    "train_df = missing.copy()"
   ]
  },
  {
   "cell_type": "markdown",
   "metadata": {},
   "source": [
    "## Missing Values for test data"
   ]
  },
  {
   "cell_type": "code",
   "execution_count": 18,
   "metadata": {},
   "outputs": [],
   "source": [
    "# get cols with NaN values\n",
    "test_col_with_nan = [col for col in test_df.columns if test_df[col].isnull().any()]"
   ]
  },
  {
   "cell_type": "code",
   "execution_count": 19,
   "metadata": {},
   "outputs": [],
   "source": [
    "# protecting original data\n",
    "test_missing = test_df.copy()"
   ]
  },
  {
   "cell_type": "code",
   "execution_count": 20,
   "metadata": {},
   "outputs": [
    {
     "name": "stdout",
     "output_type": "stream",
     "text": [
      "<class 'pandas.core.frame.DataFrame'>\n",
      "Int64Index: 1459 entries, 1461 to 2919\n",
      "Data columns (total 33 columns):\n",
      " #   Column        Non-Null Count  Dtype  \n",
      "---  ------        --------------  -----  \n",
      " 0   MSZoning      1455 non-null   object \n",
      " 1   LotFrontage   1232 non-null   float64\n",
      " 2   Alley         107 non-null    object \n",
      " 3   Utilities     1457 non-null   object \n",
      " 4   Exterior1st   1458 non-null   object \n",
      " 5   Exterior2nd   1458 non-null   object \n",
      " 6   MasVnrType    1443 non-null   object \n",
      " 7   MasVnrArea    1444 non-null   float64\n",
      " 8   BsmtQual      1415 non-null   object \n",
      " 9   BsmtCond      1414 non-null   object \n",
      " 10  BsmtExposure  1415 non-null   object \n",
      " 11  BsmtFinType1  1417 non-null   object \n",
      " 12  BsmtFinSF1    1458 non-null   float64\n",
      " 13  BsmtFinType2  1417 non-null   object \n",
      " 14  BsmtFinSF2    1458 non-null   float64\n",
      " 15  BsmtUnfSF     1458 non-null   float64\n",
      " 16  TotalBsmtSF   1458 non-null   float64\n",
      " 17  BsmtFullBath  1457 non-null   float64\n",
      " 18  BsmtHalfBath  1457 non-null   float64\n",
      " 19  KitchenQual   1458 non-null   object \n",
      " 20  Functional    1457 non-null   object \n",
      " 21  FireplaceQu   729 non-null    object \n",
      " 22  GarageType    1383 non-null   object \n",
      " 23  GarageYrBlt   1381 non-null   float64\n",
      " 24  GarageFinish  1381 non-null   object \n",
      " 25  GarageCars    1458 non-null   float64\n",
      " 26  GarageArea    1458 non-null   float64\n",
      " 27  GarageQual    1381 non-null   object \n",
      " 28  GarageCond    1381 non-null   object \n",
      " 29  PoolQC        3 non-null      object \n",
      " 30  Fence         290 non-null    object \n",
      " 31  MiscFeature   51 non-null     object \n",
      " 32  SaleType      1458 non-null   object \n",
      "dtypes: float64(11), object(22)\n",
      "memory usage: 387.5+ KB\n"
     ]
    }
   ],
   "source": [
    "test_missing[test_col_with_nan].info()"
   ]
  },
  {
   "cell_type": "markdown",
   "metadata": {},
   "source": [
    "Get columns with categorical features and numerical ones. We will use it to fill missing values in the test data separately."
   ]
  },
  {
   "cell_type": "code",
   "execution_count": 21,
   "metadata": {},
   "outputs": [],
   "source": [
    "# getting numerical and categorical cols in cols with nan\n",
    "cat_col_with_nan = [col for col in test_col_with_nan if test_missing[col].dtypes == 'object']\n",
    "num_col_with_nan = list(set(test_col_with_nan) - set(cat_col_with_nan))"
   ]
  },
  {
   "cell_type": "code",
   "execution_count": 22,
   "metadata": {},
   "outputs": [],
   "source": [
    "# filling LotFrontage missing values in test data with training median values\n",
    "for neighborhood in list(train_df.groupby(['Neighborhood'])['LotFrontage'].median().index):\n",
    "    \n",
    "    median = train_df[train_df['Neighborhood'] == neighborhood].median()['LotFrontage']\n",
    "    \n",
    "    test_missing.loc[test_missing['Neighborhood'] == neighborhood, 'LotFrontage'] = \\\n",
    "        test_missing.loc[test_missing['Neighborhood'] == neighborhood, 'LotFrontage'].fillna(median)"
   ]
  },
  {
   "cell_type": "code",
   "execution_count": 23,
   "metadata": {},
   "outputs": [],
   "source": [
    "# replacing missing value in the test data with the most frequent data in train data\n",
    "# for categorical features, and with the median for numerical features\n",
    "for col in cat_col_with_nan:\n",
    "    test_missing[col].fillna(train_df[col].mode()[0], inplace=True)\n",
    "\n",
    "for col in num_col_with_nan:\n",
    "    test_missing[col].fillna(train_df[col].median(), inplace=True)"
   ]
  },
  {
   "cell_type": "code",
   "execution_count": 24,
   "metadata": {},
   "outputs": [],
   "source": [
    "# separating 'object', 'int64' and 'float64' columns\n",
    "cat_col = [col for col in train_df.columns if train_df[col].dtypes == 'object']\n",
    "float_col = [col for col in train_df.columns if train_df[col].dtypes == 'float64']\n",
    "int_col = [col for col in train_df.columns if train_df[col].dtypes == 'int64']"
   ]
  },
  {
   "cell_type": "code",
   "execution_count": 25,
   "metadata": {},
   "outputs": [],
   "source": [
    "# fixing dtypes of columns in test data\n",
    "for col in test_missing.columns:\n",
    "    \n",
    "    if col in cat_col:\n",
    "        test_missing = test_missing.astype({col: 'object'})\n",
    "    elif col in int_col:\n",
    "        test_missing = test_missing.astype({col: 'int64'})\n",
    "    elif col in float_col:\n",
    "        test_missing = test_missing.astype({col: 'float64'})"
   ]
  },
  {
   "cell_type": "code",
   "execution_count": 26,
   "metadata": {},
   "outputs": [],
   "source": [
    "test_df = test_missing.copy()"
   ]
  },
  {
   "cell_type": "markdown",
   "metadata": {},
   "source": [
    "## Preparing data"
   ]
  },
  {
   "cell_type": "markdown",
   "metadata": {},
   "source": [
    "Concatenate train and test to manipulate features"
   ]
  },
  {
   "cell_type": "code",
   "execution_count": 27,
   "metadata": {},
   "outputs": [],
   "source": [
    "y = train_df['SalePrice']\n",
    "train_df = train_df.drop('SalePrice', axis=1)\n",
    "all_data = pd.concat([train_df, test_df])"
   ]
  },
  {
   "cell_type": "markdown",
   "metadata": {},
   "source": [
    "There is only one sample in the training set that has Utilities as 'NoSeWa'. So it will not use this feature."
   ]
  },
  {
   "cell_type": "code",
   "execution_count": 28,
   "metadata": {},
   "outputs": [
    {
     "data": {
      "text/plain": [
       "Utilities\n",
       "AllPub    2911\n",
       "NoSeWa       1\n",
       "Name: Utilities, dtype: int64"
      ]
     },
     "execution_count": 28,
     "metadata": {},
     "output_type": "execute_result"
    }
   ],
   "source": [
    "all_data.groupby('Utilities')['Utilities'].count()"
   ]
  },
  {
   "cell_type": "code",
   "execution_count": 29,
   "metadata": {},
   "outputs": [],
   "source": [
    "all_data = all_data.drop('Utilities', axis=1)"
   ]
  },
  {
   "cell_type": "markdown",
   "metadata": {},
   "source": [
    "Adding some features that may improve the models predictions"
   ]
  },
  {
   "cell_type": "code",
   "execution_count": 30,
   "metadata": {},
   "outputs": [],
   "source": [
    "all_data['TotalSF'] = all_data['TotalBsmtSF'] + all_data['1stFlrSF'] + all_data['2ndFlrSF']\n",
    "all_data['TotalPorchArea'] = (all_data['EnclosedPorch'] + all_data['OpenPorchSF'] + \n",
    "                              all_data['3SsnPorch'] + all_data['ScreenPorch'])\n",
    "all_data['HasPool'] = all_data['PoolArea'].apply(lambda x: 1 if x > 0 else 0)\n",
    "all_data['Has2ndFloor'] = all_data['2ndFlrSF'].apply(lambda x: 1 if x > 0 else 0)\n",
    "all_data['HasGarage'] = all_data['GarageArea'].apply(lambda x: 1 if x > 0 else 0)\n",
    "all_data['HasBsmt'] = all_data['TotalBsmtSF'].apply(lambda x: 1 if x > 0 else 0)"
   ]
  },
  {
   "cell_type": "code",
   "execution_count": 31,
   "metadata": {},
   "outputs": [],
   "source": [
    "all_data['YearBuilt'] = all_data['YearBuilt'].astype('object')\n",
    "all_data['YearRemodAdd'] = all_data['YearRemodAdd'].astype('object')\n",
    "all_data['GarageYrBlt'] = all_data['GarageYrBlt'].astype('object')"
   ]
  },
  {
   "cell_type": "code",
   "execution_count": 32,
   "metadata": {},
   "outputs": [],
   "source": [
    "# Label Encoding ranked features\n",
    "NA_Ex_dict = {'Ex': 5, 'Gd': 4, 'TA': 3, 'Fa': 2, 'Po': 1, 'NA': 0}\n",
    "label_encoding = {'Alley': {'NA': 0, 'Grvl': 1, 'Pave': 2}, \n",
    "                 'ExterQual': NA_Ex_dict,\n",
    "                 'ExterCond': NA_Ex_dict,\n",
    "                 'BsmtQual': NA_Ex_dict,\n",
    "                 'BsmtCond': NA_Ex_dict,\n",
    "                 'HeatingQC': NA_Ex_dict,\n",
    "                 'KitchenQual': NA_Ex_dict,\n",
    "                 'FireplaceQu': NA_Ex_dict,\n",
    "                 'GarageQual': NA_Ex_dict,\n",
    "                 'GarageCond': NA_Ex_dict,\n",
    "                 'PoolQC': NA_Ex_dict,\n",
    "                 'BsmtExposure':{'No': 0, 'Gd': 3, 'Mn': 1, 'Av': 2, 'NA': 0},\n",
    "                 'CentralAir': {'N': 0, 'Y': 1},\n",
    "                 'GarageFinish': {'RFn': 2, 'Unf': 1, 'Fin': 3, 'NA': 0},\n",
    "                 'PavedDrive': {'Y': 2, 'N': 0, 'P': 1},\n",
    "                 'Fence': {'NA': 0, 'MnPrv': 3, 'GdWo': 2, 'GdPrv': 4, 'MnWw': 1},\n",
    "                 'Electrical': {'SBrkr': 5, 'FuseF': 3, 'FuseA': 4, 'FuseP': 2, 'Mix': 1}}\n",
    "\n",
    "all_data.replace(label_encoding, inplace=True)"
   ]
  },
  {
   "cell_type": "code",
   "execution_count": 33,
   "metadata": {},
   "outputs": [],
   "source": [
    "# get remaining object cols\n",
    "object_col = [col for col in all_data.columns if all_data[col].dtypes == 'object']\n",
    "num_col = [col for col in all_data.columns if all_data[col].dtypes != 'object']"
   ]
  },
  {
   "cell_type": "code",
   "execution_count": 34,
   "metadata": {},
   "outputs": [
    {
     "data": {
      "text/plain": [
       "MiscVal           21.944005\n",
       "PoolQC            19.531987\n",
       "PoolArea          17.673354\n",
       "HasPool           15.481305\n",
       "LowQualFinSF      12.073977\n",
       "3SsnPorch         11.362112\n",
       "KitchenAbvGr       4.296287\n",
       "BsmtFinSF2         4.158442\n",
       "Alley              4.132591\n",
       "EnclosedPorch      3.998474\n",
       "ScreenPorch        3.941117\n",
       "BsmtHalfBath       3.940486\n",
       "LotArea            3.600580\n",
       "MasVnrArea         2.627278\n",
       "OpenPorchSF        2.528695\n",
       "TotalPorchArea     2.242861\n",
       "WoodDeckSF         1.837911\n",
       "Fence              1.750986\n",
       "MSSubClass         1.373055\n",
       "ExterCond          1.312957\n",
       "1stFlrSF           1.263878\n",
       "BsmtExposure       1.247050\n",
       "GrLivArea          1.073596\n",
       "TotalSF            1.017432\n",
       "BsmtFinSF1         0.984885\n",
       "BsmtUnfSF          0.918903\n",
       "2ndFlrSF           0.860378\n",
       "ExterQual          0.782285\n",
       "TotRmsAbvGrd       0.751316\n",
       "Fireplaces         0.727210\n",
       "HalfBath           0.693943\n",
       "TotalBsmtSF        0.678083\n",
       "LotFrontage        0.627478\n",
       "BsmtFullBath       0.616889\n",
       "OverallCond        0.570607\n",
       "KitchenQual        0.438335\n",
       "BedroomAbvGr       0.327818\n",
       "Has2ndFloor        0.290092\n",
       "GarageFinish       0.260354\n",
       "GarageArea         0.219634\n",
       "MoSold             0.197808\n",
       "OverallQual        0.190634\n",
       "FireplaceQu        0.177048\n",
       "FullBath           0.168843\n",
       "YrSold             0.131903\n",
       "GarageCars        -0.216644\n",
       "HeatingQC         -0.549713\n",
       "BsmtQual          -0.776626\n",
       "PavedDrive        -2.974381\n",
       "CentralAir        -3.453883\n",
       "BsmtCond          -3.753003\n",
       "HasGarage         -3.950286\n",
       "Electrical        -4.188071\n",
       "GarageQual        -4.197326\n",
       "GarageCond        -4.456264\n",
       "HasBsmt           -5.861813\n",
       "dtype: float64"
      ]
     },
     "execution_count": 34,
     "metadata": {},
     "output_type": "execute_result"
    }
   ],
   "source": [
    "skewed_feats = all_data[num_col].apply(lambda x: skew(x)).sort_values(ascending=False)\n",
    "\n",
    "skewed_feats"
   ]
  },
  {
   "cell_type": "markdown",
   "metadata": {},
   "source": [
    "Deal with skewness in the data, using BoxCox1p transformation."
   ]
  },
  {
   "cell_type": "code",
   "execution_count": 35,
   "metadata": {},
   "outputs": [
    {
     "name": "stderr",
     "output_type": "stream",
     "text": [
      "/home/artur/anaconda3/lib/python3.7/site-packages/scipy/stats/stats.py:3845: PearsonRConstantInputWarning: An input array is constant; the correlation coefficent is not defined.\n",
      "  warnings.warn(PearsonRConstantInputWarning())\n",
      "/home/artur/anaconda3/lib/python3.7/site-packages/scipy/stats/stats.py:3875: PearsonRNearConstantInputWarning: An input array is nearly constant; the computed correlation coefficent may be inaccurate.\n",
      "  warnings.warn(PearsonRNearConstantInputWarning())\n"
     ]
    }
   ],
   "source": [
    "from scipy.stats import skew\n",
    "from scipy.special import boxcox1p\n",
    "from scipy.stats import boxcox_normmax\n",
    "\n",
    "def fixing_skewness(df):\n",
    "    \"\"\"\n",
    "    This function takes in a dataframe and return fixed skewed dataframe\n",
    "    \"\"\"\n",
    "    \n",
    "    ## Getting all the data that are not of \"object\" type. \n",
    "    numeric_feats = df.dtypes[df.dtypes != \"object\"].index\n",
    "\n",
    "    # Check the skew of all numerical features\n",
    "    skewed_feats = df[numeric_feats].apply(lambda x: skew(x)).sort_values(ascending=False)\n",
    "    high_skew = skewed_feats[abs(skewed_feats) > 0.5]\n",
    "    skewed_features = high_skew.index\n",
    "\n",
    "    for feat in skewed_features:\n",
    "        df[feat] = boxcox1p(df[feat], boxcox_normmax(df[feat] + 1))\n",
    "\n",
    "fixing_skewness(all_data)"
   ]
  },
  {
   "cell_type": "code",
   "execution_count": 36,
   "metadata": {},
   "outputs": [],
   "source": [
    "# Taking log of y because it makes the training faster and better\n",
    "y = np.log1p(y)"
   ]
  },
  {
   "cell_type": "code",
   "execution_count": 37,
   "metadata": {},
   "outputs": [],
   "source": [
    "train_df = all_data[:len(train_df)]\n",
    "test_df = all_data[len(train_df):]\n",
    "\n",
    "X = train_df.copy()\n",
    "X_test = test_df.copy()"
   ]
  },
  {
   "cell_type": "code",
   "execution_count": 38,
   "metadata": {},
   "outputs": [],
   "source": [
    "# Target Encoding the remaining object columns\n",
    "import category_encoders as ce\n",
    "\n",
    "target_encoder = ce.TargetEncoder(cols = object_col)\n",
    "\n",
    "target_encoder.fit(X[object_col], y)\n",
    "X[object_col] = target_encoder.transform(X[object_col], y)\n",
    "X_test[object_col] = target_encoder.transform(X_test[object_col])"
   ]
  },
  {
   "cell_type": "code",
   "execution_count": 40,
   "metadata": {},
   "outputs": [],
   "source": [
    "# Standardization\n",
    "from sklearn.preprocessing import RobustScaler\n",
    "\n",
    "robust_scaler = RobustScaler()\n",
    "X = robust_scaler.fit_transform(X)\n",
    "X_test = robust_scaler.transform(X_test)"
   ]
  },
  {
   "cell_type": "code",
   "execution_count": 41,
   "metadata": {},
   "outputs": [],
   "source": [
    "X = pd.DataFrame(X)\n",
    "X_test = pd.DataFrame(X_test)"
   ]
  },
  {
   "cell_type": "markdown",
   "metadata": {},
   "source": [
    "## Modeling of the data"
   ]
  },
  {
   "cell_type": "markdown",
   "metadata": {},
   "source": [
    "We will try to make a prediction model using regression models such as: Rigde, Lasso, ElasticNet, SVR and RandomForest. Let's analyse which one suits better for this problem."
   ]
  },
  {
   "cell_type": "markdown",
   "metadata": {},
   "source": [
    "### Importing modules of the models"
   ]
  },
  {
   "cell_type": "code",
   "execution_count": 62,
   "metadata": {},
   "outputs": [],
   "source": [
    "from sklearn.linear_model import Ridge, ElasticNet, Lasso\n",
    "from sklearn.ensemble import RandomForestRegressor\n",
    "from sklearn.svm import SVR\n",
    "from sklearn.model_selection import GridSearchCV\n",
    "from sklearn.metrics import mean_squared_error"
   ]
  },
  {
   "cell_type": "markdown",
   "metadata": {},
   "source": [
    "### Reading test data real solution"
   ]
  },
  {
   "cell_type": "code",
   "execution_count": 50,
   "metadata": {},
   "outputs": [
    {
     "data": {
      "text/html": [
       "<div>\n",
       "<style scoped>\n",
       "    .dataframe tbody tr th:only-of-type {\n",
       "        vertical-align: middle;\n",
       "    }\n",
       "\n",
       "    .dataframe tbody tr th {\n",
       "        vertical-align: top;\n",
       "    }\n",
       "\n",
       "    .dataframe thead th {\n",
       "        text-align: right;\n",
       "    }\n",
       "</style>\n",
       "<table border=\"1\" class=\"dataframe\">\n",
       "  <thead>\n",
       "    <tr style=\"text-align: right;\">\n",
       "      <th></th>\n",
       "      <th>SalePrice</th>\n",
       "    </tr>\n",
       "  </thead>\n",
       "  <tbody>\n",
       "    <tr>\n",
       "      <th>0</th>\n",
       "      <td>11.561725</td>\n",
       "    </tr>\n",
       "    <tr>\n",
       "      <th>1</th>\n",
       "      <td>12.055256</td>\n",
       "    </tr>\n",
       "    <tr>\n",
       "      <th>2</th>\n",
       "      <td>12.154258</td>\n",
       "    </tr>\n",
       "    <tr>\n",
       "      <th>3</th>\n",
       "      <td>12.183321</td>\n",
       "    </tr>\n",
       "    <tr>\n",
       "      <th>4</th>\n",
       "      <td>12.162648</td>\n",
       "    </tr>\n",
       "  </tbody>\n",
       "</table>\n",
       "</div>"
      ],
      "text/plain": [
       "   SalePrice\n",
       "0  11.561725\n",
       "1  12.055256\n",
       "2  12.154258\n",
       "3  12.183321\n",
       "4  12.162648"
      ]
     },
     "execution_count": 50,
     "metadata": {},
     "output_type": "execute_result"
    }
   ],
   "source": [
    "y_test = pd.read_csv('submission.csv')\n",
    "y_test.drop(['Id'], axis=1, inplace=True)\n",
    "y_test['SalePrice'] = np.log1p(y_test['SalePrice'])\n",
    "y_test.head()"
   ]
  },
  {
   "cell_type": "code",
   "execution_count": 70,
   "metadata": {},
   "outputs": [],
   "source": [
    "# function to fit and do hyperparameter tunning\n",
    "def hyperparameter_tuning(X, y, X_test, y_test, parameters, model, cv=5, scoring='neg_root_mean_squared_error'):\n",
    "    clf = GridSearchCV(model, parameters, cv=cv, scoring=scoring, n_jobs=-1)\n",
    "    clf.fit(X, y)\n",
    "    test_score = np.sqrt(mean_squared_error(y_test, clf.predict(X_test)))\n",
    "    print('Best parameters:')\n",
    "    print(clf.best_params_)\n",
    "    print('Train score: %.4f' % (-clf.best_score_))\n",
    "    print('Test score: %.4f' % test_score)\n",
    "    return clf"
   ]
  },
  {
   "cell_type": "markdown",
   "metadata": {},
   "source": [
    "### Ridge"
   ]
  },
  {
   "cell_type": "code",
   "execution_count": 71,
   "metadata": {},
   "outputs": [
    {
     "name": "stdout",
     "output_type": "stream",
     "text": [
      "Best parameters:\n",
      "{'alpha': 0.1}\n",
      "Train score: 0.1131\n",
      "Test score: 0.1302\n"
     ]
    }
   ],
   "source": [
    "param_ridge = {'alpha' : [0.001, 0.01, 0.1, 1.0, 10.0]}\n",
    "ridge_model = Ridge(normalize=True)\n",
    "clf_ridge = hyperparameter_tuning(X, y, X_test, y_test, param_ridge, ridge_model)"
   ]
  },
  {
   "cell_type": "markdown",
   "metadata": {},
   "source": [
    "### ElasticNet Model"
   ]
  },
  {
   "cell_type": "code",
   "execution_count": 73,
   "metadata": {},
   "outputs": [
    {
     "name": "stdout",
     "output_type": "stream",
     "text": [
      "Best parameters:\n",
      "{'alpha': 0.0001, 'l1_ratio': 0.7}\n",
      "Train score: 0.1114\n",
      "Test score: 0.1289\n"
     ]
    }
   ],
   "source": [
    "param_en = {'alpha' : [0.00001, 0.0001, 0.001],\n",
    "            'l1_ratio' : [0.1, 0.3, 0.5, 0.7, 0.9]}\n",
    "elasticnet_model = ElasticNet(normalize=True)\n",
    "clf_en = hyperparameter_tuning(X, y, X_test, y_test, param_en, elasticnet_model)"
   ]
  },
  {
   "cell_type": "markdown",
   "metadata": {},
   "source": [
    "### Lasso Model"
   ]
  },
  {
   "cell_type": "code",
   "execution_count": 74,
   "metadata": {},
   "outputs": [
    {
     "name": "stdout",
     "output_type": "stream",
     "text": [
      "Best parameters:\n",
      "{'alpha': 0.0001}\n",
      "Train score: 0.1117\n",
      "Test score: 0.1287\n"
     ]
    }
   ],
   "source": [
    "param_lasso = {'alpha' : [0.00001, 0.0001, 0.001]}\n",
    "lasso_model = Lasso(normalize=True)\n",
    "clf_lasso = hyperparameter_tuning(X, y, X_test, y_test, param_lasso, lasso_model)"
   ]
  },
  {
   "cell_type": "markdown",
   "metadata": {},
   "source": [
    "### SVR"
   ]
  },
  {
   "cell_type": "code",
   "execution_count": 83,
   "metadata": {
    "scrolled": true
   },
   "outputs": [
    {
     "name": "stdout",
     "output_type": "stream",
     "text": [
      "Best parameters:\n",
      "{'C': 100000.0, 'epsilon': 1e-05, 'kernel': 'rbf'}\n",
      "Train score: 0.1183\n",
      "Test score: 0.1387\n"
     ]
    }
   ],
   "source": [
    "param_svr = {'kernel' : ['rbf'],\n",
    "             'C' : [1e4, 1e5, 1e6],\n",
    "             'epsilon' : [1e-6, 1e-5, 1e-4]\n",
    "            }\n",
    "svr_model = SVR()\n",
    "clf_svr = hyperparameter_tuning(X, y, X_test, y_test, param_svr, svr_model)"
   ]
  },
  {
   "cell_type": "markdown",
   "metadata": {},
   "source": [
    "### Random Forest"
   ]
  },
  {
   "cell_type": "code",
   "execution_count": 94,
   "metadata": {},
   "outputs": [
    {
     "name": "stdout",
     "output_type": "stream",
     "text": [
      "Best parameters:\n",
      "{'n_estimators': 600}\n",
      "Train score: 0.1332\n",
      "Test score: 0.1482\n"
     ]
    }
   ],
   "source": [
    "param_rf = {'n_estimators' : [500, 600, 700]}\n",
    "rf_model = RandomForestRegressor()\n",
    "clf_rf = hyperparameter_tuning(X, y, X_test, y_test, param_rf, rf_model)"
   ]
  },
  {
   "cell_type": "markdown",
   "metadata": {},
   "source": [
    "From all models from above, after parameter tunning, we see that they all have similar good results and they are not overfitting. The best ones were Lasso and ElaticNet regression (ElasticNet is a combination of Lasso and Ridge, so this was expected), they had very little difference from each other. We can also try to merge the models to make one ensemble model. We could even try some neural network to try to beat the highest score.\n",
    "\n",
    "Just do not forget that we need to retransform the predictions because they are in np.log1p()."
   ]
  },
  {
   "cell_type": "markdown",
   "metadata": {},
   "source": [
    "### Ensemble Model\n",
    "\n",
    "Let's try to find a combination of the model above in which we can beat the best test score from before: 0.1287. As ElasticNet is a combination of Lasso and Ridge regression we will only use the ElasticNet model."
   ]
  },
  {
   "cell_type": "code",
   "execution_count": 116,
   "metadata": {},
   "outputs": [
    {
     "name": "stderr",
     "output_type": "stream",
     "text": [
      "100%|██████████| 100000/100000 [04:50<00:00, 343.89it/s]\n"
     ]
    }
   ],
   "source": [
    "#y_ridge = clf_ridge.predict(X_test)\n",
    "#y_lasso = clf_lasso.predict(X_test)\n",
    "y_en = clf_en.predict(X_test)\n",
    "y_svr = clf_svr.predict(X_test)\n",
    "y_rf = clf_rf.predict(X_test)\n",
    "\n",
    "lowest_score = 10000\n",
    "best_params = {'c1': 0, 'c2': 0, 'c3': 1}\n",
    "\n",
    "for i in tqdm.tqdm(range(100000)):\n",
    "    c1, c2, c3 = np.random.rand(3)                                      #generate three number between [0, 1)\n",
    "    total_c = c1 + c2 + c3                                              #getting the total value for normalizing\n",
    "    c1 /= total_c                                                       #Normalizing\n",
    "    c2 /= total_c\n",
    "    c3 /= total_c\n",
    "    \n",
    "    y_ensemble = c1 * y_en + c2 * y_svr + c3 * y_rf\n",
    "    actual_score = np.sqrt(mean_squared_error(y_test, y_ensemble))\n",
    "    \n",
    "    if actual_score < lowest_score:\n",
    "        lowest_score = actual_score\n",
    "        best_params['c1'] = c1\n",
    "        best_params['c2'] = c2\n",
    "        best_params['c3'] = c3"
   ]
  },
  {
   "cell_type": "code",
   "execution_count": 117,
   "metadata": {},
   "outputs": [
    {
     "name": "stdout",
     "output_type": "stream",
     "text": [
      "c1: 0.8827\n",
      "c2: 0.0003\n",
      "c3: 0.1170\n",
      "Lowest_score: 0.1286\n"
     ]
    }
   ],
   "source": [
    "print('c1: %.4f' % best_params['c1'])\n",
    "print('c2: %.4f' % best_params['c2'])\n",
    "print('c3: %.4f' % best_params['c3'])\n",
    "print('Lowest_score: %.4f' % lowest_score)"
   ]
  },
  {
   "cell_type": "markdown",
   "metadata": {},
   "source": [
    "We see that we got an improvement of 0.0001, so it is not worth it. We can stick with the ElasticNet."
   ]
  }
 ],
 "metadata": {
  "kernelspec": {
   "display_name": "Python 3",
   "language": "python",
   "name": "python3"
  },
  "language_info": {
   "codemirror_mode": {
    "name": "ipython",
    "version": 3
   },
   "file_extension": ".py",
   "mimetype": "text/x-python",
   "name": "python",
   "nbconvert_exporter": "python",
   "pygments_lexer": "ipython3",
   "version": "3.7.5"
  }
 },
 "nbformat": 4,
 "nbformat_minor": 2
}
